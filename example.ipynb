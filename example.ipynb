{
 "cells": [
  {
   "cell_type": "code",
   "execution_count": 1,
   "id": "0ff59ab0",
   "metadata": {},
   "outputs": [],
   "source": [
    "%load_ext autoreload\n",
    "%autoreload 2\n",
    "%reload_ext autoreload"
   ]
  },
  {
   "cell_type": "code",
   "execution_count": 2,
   "id": "ad98feb5",
   "metadata": {},
   "outputs": [],
   "source": [
    "from src.models import Participants\n",
    "from src.common import FEATURE_NAME_ENG, FEATURE_SIZE\n",
    "from src.utils import ran_feature_columns, generate_feature_values"
   ]
  },
  {
   "cell_type": "code",
   "execution_count": 6,
   "id": "9fdcf4b7",
   "metadata": {},
   "outputs": [],
   "source": [
    "# 성실 참여자 50명 생성\n",
    "users = list()\n",
    "for user_id in range(0, 50):\n",
    "    users.append(\n",
    "        Participants(user_id, ran_feature_columns()))\n",
    "\n",
    "# 매우불성실 참여자 25명 생성\n",
    "for user_id in range(50, 75):\n",
    "    users.append(Participants(user_id, [], \"random\"))\n",
    "    \n",
    "# 불성실 참여자 25명 생성\n",
    "for user_id in range(75, 100):\n",
    "    users.append(Participants(user_id, [], \"one-line\"))"
   ]
  },
  {
   "cell_type": "code",
   "execution_count": 7,
   "id": "97a0aaf6",
   "metadata": {},
   "outputs": [],
   "source": [
    "for days in range(0, 540):\n",
    "    values = generate_feature_values()\n",
    "    \n",
    "    for user in users:\n",
    "        user.survey(values)"
   ]
  },
  {
   "cell_type": "code",
   "execution_count": null,
   "id": "701278e4",
   "metadata": {},
   "outputs": [],
   "source": []
  },
  {
   "cell_type": "code",
   "execution_count": null,
   "id": "13c68941",
   "metadata": {},
   "outputs": [],
   "source": []
  }
 ],
 "metadata": {
  "kernelspec": {
   "display_name": "Python 3 (ipykernel)",
   "language": "python",
   "name": "python3"
  },
  "language_info": {
   "codemirror_mode": {
    "name": "ipython",
    "version": 3
   },
   "file_extension": ".py",
   "mimetype": "text/x-python",
   "name": "python",
   "nbconvert_exporter": "python",
   "pygments_lexer": "ipython3",
   "version": "3.8.12"
  }
 },
 "nbformat": 4,
 "nbformat_minor": 5
}
