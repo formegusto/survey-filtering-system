{
 "cells": [
  {
   "cell_type": "code",
   "execution_count": 1,
   "id": "0ff59ab0",
   "metadata": {},
   "outputs": [],
   "source": [
    "%load_ext autoreload\n",
    "%autoreload 2\n",
    "%reload_ext autoreload"
   ]
  },
  {
   "cell_type": "code",
   "execution_count": 79,
   "id": "ad98feb5",
   "metadata": {},
   "outputs": [],
   "source": [
    "from src.models import Participants\n",
    "from src.common import FEATURE_NAME_ENG, FEATURE_SIZE\n",
    "from src.utils import ran_feature_columns, generate_feature_values\n",
    "from src.libs import RFSimulation, Filtering"
   ]
  },
  {
   "cell_type": "code",
   "execution_count": 3,
   "id": "9fdcf4b7",
   "metadata": {},
   "outputs": [],
   "source": [
    "# 성실 참여자 50명 생성\n",
    "users = list()\n",
    "for user_id in range(0, 50):\n",
    "    users.append(\n",
    "        Participants(user_id, ran_feature_columns()))\n",
    "\n",
    "# 매우불성실 참여자 25명 생성\n",
    "for user_id in range(50, 75):\n",
    "    users.append(Participants(user_id, [], \"random\"))\n",
    "    \n",
    "# 불성실 참여자 25명 생성\n",
    "for user_id in range(75, 100):\n",
    "    users.append(Participants(user_id, [], \"one-line\"))"
   ]
  },
  {
   "cell_type": "code",
   "execution_count": 4,
   "id": "97a0aaf6",
   "metadata": {},
   "outputs": [],
   "source": [
    "for days in range(0, 540):\n",
    "    values = generate_feature_values()\n",
    "    \n",
    "    for user in users:\n",
    "        user.survey(values)"
   ]
  },
  {
   "cell_type": "code",
   "execution_count": 11,
   "id": "701278e4",
   "metadata": {},
   "outputs": [],
   "source": [
    "rf = RFSimulation(users)\n",
    "\n",
    "rf.run()"
   ]
  },
  {
   "cell_type": "code",
   "execution_count": 82,
   "id": "24edc138",
   "metadata": {},
   "outputs": [
    {
     "data": {
      "text/plain": [
       "[<src.models.Participants.Participants at 0x7f9d719f4970>,\n",
       " <src.models.Participants.Participants at 0x7f9d719f4460>,\n",
       " <src.models.Participants.Participants at 0x7f9d416e2160>,\n",
       " <src.models.Participants.Participants at 0x7f9d71ad5070>,\n",
       " <src.models.Participants.Participants at 0x7f9d71a676d0>,\n",
       " <src.models.Participants.Participants at 0x7f9d41701820>,\n",
       " <src.models.Participants.Participants at 0x7f9d416f4940>,\n",
       " <src.models.Participants.Participants at 0x7f9d416f4a30>,\n",
       " <src.models.Participants.Participants at 0x7f9d416f4a90>,\n",
       " <src.models.Participants.Participants at 0x7f9d416f4970>,\n",
       " <src.models.Participants.Participants at 0x7f9d71adcb80>,\n",
       " <src.models.Participants.Participants at 0x7f9d71adc9d0>,\n",
       " <src.models.Participants.Participants at 0x7f9d71adce50>,\n",
       " <src.models.Participants.Participants at 0x7f9d71adce80>,\n",
       " <src.models.Participants.Participants at 0x7f9d71adcd60>,\n",
       " <src.models.Participants.Participants at 0x7f9d71adc670>,\n",
       " <src.models.Participants.Participants at 0x7f9d71adcd30>,\n",
       " <src.models.Participants.Participants at 0x7f9d71adcf70>,\n",
       " <src.models.Participants.Participants at 0x7f9d71adc940>,\n",
       " <src.models.Participants.Participants at 0x7f9d71adcaf0>,\n",
       " <src.models.Participants.Participants at 0x7f9d71adceb0>,\n",
       " <src.models.Participants.Participants at 0x7f9d71adcbb0>,\n",
       " <src.models.Participants.Participants at 0x7f9d71adcc70>,\n",
       " <src.models.Participants.Participants at 0x7f9d71adca90>,\n",
       " <src.models.Participants.Participants at 0x7f9d71adcee0>,\n",
       " <src.models.Participants.Participants at 0x7f9d71adc970>,\n",
       " <src.models.Participants.Participants at 0x7f9d71adc730>,\n",
       " <src.models.Participants.Participants at 0x7f9d71adca00>,\n",
       " <src.models.Participants.Participants at 0x7f9d4171a310>,\n",
       " <src.models.Participants.Participants at 0x7f9d4171a400>,\n",
       " <src.models.Participants.Participants at 0x7f9d4171a3a0>,\n",
       " <src.models.Participants.Participants at 0x7f9d4171a2b0>,\n",
       " <src.models.Participants.Participants at 0x7f9d4171a3d0>,\n",
       " <src.models.Participants.Participants at 0x7f9d4171a2e0>,\n",
       " <src.models.Participants.Participants at 0x7f9d417286d0>,\n",
       " <src.models.Participants.Participants at 0x7f9d417288e0>,\n",
       " <src.models.Participants.Participants at 0x7f9d417287c0>,\n",
       " <src.models.Participants.Participants at 0x7f9d41728730>,\n",
       " <src.models.Participants.Participants at 0x7f9d41728880>,\n",
       " <src.models.Participants.Participants at 0x7f9d41728820>,\n",
       " <src.models.Participants.Participants at 0x7f9d41728b20>,\n",
       " <src.models.Participants.Participants at 0x7f9d417289d0>,\n",
       " <src.models.Participants.Participants at 0x7f9d41728970>,\n",
       " <src.models.Participants.Participants at 0x7f9d41728700>,\n",
       " <src.models.Participants.Participants at 0x7f9d41727760>,\n",
       " <src.models.Participants.Participants at 0x7f9d41727850>,\n",
       " <src.models.Participants.Participants at 0x7f9d41727be0>,\n",
       " <src.models.Participants.Participants at 0x7f9d71a05370>,\n",
       " <src.models.Participants.Participants at 0x7f9d71a05310>,\n",
       " <src.models.Participants.Participants at 0x7f9d71a05340>]"
      ]
     },
     "execution_count": 82,
     "metadata": {},
     "output_type": "execute_result"
    }
   ],
   "source": [
    "filtering = Filtering(rf)\n",
    "filtering.filter()"
   ]
  },
  {
   "cell_type": "code",
   "execution_count": 27,
   "id": "5321badb",
   "metadata": {},
   "outputs": [
    {
     "ename": "TypeError",
     "evalue": "list indices must be integers or slices, not list",
     "output_type": "error",
     "traceback": [
      "\u001b[0;31m---------------------------------------------------------------------------\u001b[0m",
      "\u001b[0;31mTypeError\u001b[0m                                 Traceback (most recent call last)",
      "\u001b[0;32m/var/folders/52/4yvp7r991px0gmq4wyr894j40000gn/T/ipykernel_46632/2328506726.py\u001b[0m in \u001b[0;36m<module>\u001b[0;34m\u001b[0m\n\u001b[0;32m----> 1\u001b[0;31m \u001b[0mrf\u001b[0m\u001b[0;34m.\u001b[0m\u001b[0musers\u001b[0m\u001b[0;34m[\u001b[0m\u001b[0;34m[\u001b[0m\u001b[0;36m1\u001b[0m\u001b[0;34m,\u001b[0m\u001b[0;36m2\u001b[0m\u001b[0;34m,\u001b[0m\u001b[0;36m3\u001b[0m\u001b[0;34m]\u001b[0m\u001b[0;34m]\u001b[0m\u001b[0;34m\u001b[0m\u001b[0;34m\u001b[0m\u001b[0m\n\u001b[0m",
      "\u001b[0;31mTypeError\u001b[0m: list indices must be integers or slices, not list"
     ]
    }
   ],
   "source": []
  },
  {
   "cell_type": "code",
   "execution_count": null,
   "id": "bb171d10",
   "metadata": {},
   "outputs": [],
   "source": []
  }
 ],
 "metadata": {
  "kernelspec": {
   "display_name": "Python 3 (ipykernel)",
   "language": "python",
   "name": "python3"
  },
  "language_info": {
   "codemirror_mode": {
    "name": "ipython",
    "version": 3
   },
   "file_extension": ".py",
   "mimetype": "text/x-python",
   "name": "python",
   "nbconvert_exporter": "python",
   "pygments_lexer": "ipython3",
   "version": "3.8.12"
  }
 },
 "nbformat": 4,
 "nbformat_minor": 5
}
