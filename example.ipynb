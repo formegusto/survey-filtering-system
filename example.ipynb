{
 "cells": [
  {
   "cell_type": "code",
   "execution_count": 1,
   "id": "0ff59ab0",
   "metadata": {},
   "outputs": [],
   "source": [
    "%load_ext autoreload\n",
    "%autoreload 2\n",
    "%reload_ext autoreload"
   ]
  },
  {
   "cell_type": "code",
   "execution_count": 79,
   "id": "ad98feb5",
   "metadata": {},
   "outputs": [],
   "source": [
    "from src.models import Participants\n",
    "from src.common import FEATURE_NAME_ENG, FEATURE_SIZE\n",
    "from src.utils import ran_feature_columns, generate_feature_values\n",
    "from src.libs import RFSimulation, Filtering"
   ]
  },
  {
   "cell_type": "code",
   "execution_count": 3,
   "id": "9fdcf4b7",
   "metadata": {},
   "outputs": [],
   "source": [
    "# 성실 참여자 50명 생성\n",
    "users = list()\n",
    "for user_id in range(0, 50):\n",
    "    users.append(\n",
    "        Participants(user_id, ran_feature_columns()))\n",
    "\n",
    "# 매우불성실 참여자 25명 생성\n",
    "for user_id in range(50, 75):\n",
    "    users.append(Participants(user_id, [], \"random\"))\n",
    "    \n",
    "# 불성실 참여자 25명 생성\n",
    "for user_id in range(75, 100):\n",
    "    users.append(Participants(user_id, [], \"one-line\"))"
   ]
  },
  {
   "cell_type": "code",
   "execution_count": 4,
   "id": "97a0aaf6",
   "metadata": {},
   "outputs": [],
   "source": [
    "for days in range(0, 540):\n",
    "    values = generate_feature_values()\n",
    "    \n",
    "    for user in users:\n",
    "        user.survey(values)"
   ]
  },
  {
   "cell_type": "code",
   "execution_count": 11,
   "id": "701278e4",
   "metadata": {},
   "outputs": [],
   "source": [
    "rf = RFSimulation(users)\n",
    "\n",
    "rf.run()"
   ]
  },
  {
   "cell_type": "code",
   "execution_count": 87,
   "id": "75b2ca8d",
   "metadata": {},
   "outputs": [],
   "source": [
    "filtering = Filtering(rf)\n",
    "filtered = filtering.filter()\n",
    "\n",
    "chk = np.array([_.type for _ in filtered])\n",
    "np.all(chk == 'sincerity')"
   ]
  },
  {
   "cell_type": "code",
   "execution_count": 90,
   "id": "4bac2191",
   "metadata": {},
   "outputs": [
    {
     "data": {
      "text/plain": [
       "True"
      ]
     },
     "execution_count": 90,
     "metadata": {},
     "output_type": "execute_result"
    }
   ],
   "source": []
  },
  {
   "cell_type": "code",
   "execution_count": null,
   "id": "3cb011c4",
   "metadata": {},
   "outputs": [
    {
     "name": "stdout",
     "output_type": "stream",
     "text": [
      "test#1\n",
      "True\n",
      "test#2\n",
      "True\n",
      "test#3\n",
      "True\n",
      "test#4\n"
     ]
    }
   ],
   "source": [
    "import numpy as np\n",
    "\n",
    "test_no = 0\n",
    "\n",
    "while True:\n",
    "    test_no += 1\n",
    "    print(\"test#{}\".format(test_no))\n",
    "    users = list()\n",
    "\n",
    "    for user_id in range(100):\n",
    "        type = np.random.choice(['sincerity', 'random', 'one-line'])\n",
    "\n",
    "        if type == \"sincerity\":\n",
    "            user = Participants(user_id, ran_feature_columns())\n",
    "        else:\n",
    "            user = Participants(user_id, [], type)\n",
    "\n",
    "        users.append(user)\n",
    "        \n",
    "    for days in range(0, 540):\n",
    "        values = generate_feature_values()\n",
    "    \n",
    "        for user in users:\n",
    "            user.survey(values)\n",
    "        \n",
    "    rf = RFSimulation(users)\n",
    "\n",
    "    rf.run()\n",
    "    \n",
    "    filtering = Filtering(rf)\n",
    "    filtered = filtering.filter()\n",
    "\n",
    "    chk = np.array([_.type for _ in filtered])\n",
    "    print(np.all(chk == 'sincerity'))"
   ]
  },
  {
   "cell_type": "code",
   "execution_count": 27,
   "id": "9c59f9c3",
   "metadata": {},
   "outputs": [
    {
     "ename": "TypeError",
     "evalue": "list indices must be integers or slices, not list",
     "output_type": "error",
     "traceback": [
      "\u001b[0;31m---------------------------------------------------------------------------\u001b[0m",
      "\u001b[0;31mTypeError\u001b[0m                                 Traceback (most recent call last)",
      "\u001b[0;32m/var/folders/52/4yvp7r991px0gmq4wyr894j40000gn/T/ipykernel_46632/2328506726.py\u001b[0m in \u001b[0;36m<module>\u001b[0;34m\u001b[0m\n\u001b[0;32m----> 1\u001b[0;31m \u001b[0mrf\u001b[0m\u001b[0;34m.\u001b[0m\u001b[0musers\u001b[0m\u001b[0;34m[\u001b[0m\u001b[0;34m[\u001b[0m\u001b[0;36m1\u001b[0m\u001b[0;34m,\u001b[0m\u001b[0;36m2\u001b[0m\u001b[0;34m,\u001b[0m\u001b[0;36m3\u001b[0m\u001b[0;34m]\u001b[0m\u001b[0;34m]\u001b[0m\u001b[0;34m\u001b[0m\u001b[0;34m\u001b[0m\u001b[0m\n\u001b[0m",
      "\u001b[0;31mTypeError\u001b[0m: list indices must be integers or slices, not list"
     ]
    }
   ],
   "source": []
  },
  {
   "cell_type": "code",
   "execution_count": null,
   "id": "2cc7d429",
   "metadata": {},
   "outputs": [],
   "source": []
  }
 ],
 "metadata": {
  "kernelspec": {
   "display_name": "Python 3 (ipykernel)",
   "language": "python",
   "name": "python3"
  },
  "language_info": {
   "codemirror_mode": {
    "name": "ipython",
    "version": 3
   },
   "file_extension": ".py",
   "mimetype": "text/x-python",
   "name": "python",
   "nbconvert_exporter": "python",
   "pygments_lexer": "ipython3",
   "version": "3.8.12"
  }
 },
 "nbformat": 4,
 "nbformat_minor": 5
}
